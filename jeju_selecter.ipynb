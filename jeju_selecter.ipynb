{
 "cells": [
  {
   "cell_type": "code",
   "execution_count": 1,
   "metadata": {
    "scrolled": false
   },
   "outputs": [
    {
     "name": "stdout",
     "output_type": "stream",
     "text": [
      "---------------------------------------------------------------\n",
      "['loc_no' 'loc_x' 'loc_y' 'loc_name' 'tel' 'address']\n",
      "지도에 출력할 분류명 입력 : 지명관련\n"
     ]
    },
    {
     "name": "stderr",
     "output_type": "stream",
     "text": [
      "C:\\pro__\\Anaconda3\\lib\\site-packages\\pandas\\core\\indexing.py:1418: FutureWarning: \n",
      "Passing list-likes to .loc or [] with any missing label will raise\n",
      "KeyError in the future, you can use .reindex() as an alternative.\n",
      "\n",
      "See the documentation here:\n",
      "https://pandas.pydata.org/pandas-docs/stable/user_guide/indexing.html#deprecate-loc-reindex-listlike\n",
      "  return self._getitem_tuple(key)\n"
     ]
    },
    {
     "name": "stdout",
     "output_type": "stream",
     "text": [
      "\n",
      "전체 데이터 수\n",
      "          category                             loc_name      loc_x       loc_y\n",
      "category                                                                      \n",
      "공공기관       NaN        일과2리어촌계                  33.241524  126.222533\n",
      "공공기관       NaN     제주시서부보건소                  33.412314  126.269687\n",
      "공공기관       NaN  한국농어촌공사제주도본부장비관리...  33.482535  126.546874\n",
      "공공기관       NaN         동성마을회관                  33.498858  126.510652\n",
      "공공기관       NaN         한경면사무소                  33.350103  126.184084\n",
      "...            ...                  ...                        ...         ...\n",
      "치안기관       NaN   사계해경출장소(구)                  33.225851  126.300076\n",
      "치안기관       NaN         제주해경(구)                  33.486168  126.540950\n",
      "치안기관       NaN       사계출장소(구)                  33.225951  126.300026\n",
      "치안기관       NaN     서귀포파출소(구)                  33.239979  126.561928\n",
      "치안기관       NaN       위미출장소(구)                  33.271086  126.662682\n",
      "\n",
      "[66774 rows x 4 columns]\n",
      "\n",
      " 해당 데이터 수\n",
      "          category      loc_name      loc_x       loc_y\n",
      "category                                               \n",
      "지명관련       NaN          새섬  33.235071  126.562554\n",
      "지명관련       NaN          섶섬  33.230314  126.599675\n",
      "지명관련       NaN          문섬  33.226031  126.565891\n",
      "지명관련       NaN          범섬  33.218414  126.516395\n",
      "지명관련       NaN        가파도  33.170157  126.270455\n",
      "...            ...           ...        ...         ...\n",
      "지명관련       NaN      쇠기오름  33.330905  126.724475\n",
      "지명관련       NaN        성길악  33.309098  126.640233\n",
      "지명관련       NaN  거린(큰)오름  33.356309  126.656905\n",
      "지명관련       NaN  큰돌임이오름  33.436861  126.770781\n",
      "지명관련       NaN      족은오름  33.372055  126.476770\n",
      "\n",
      "[5370 rows x 4 columns]\n"
     ]
    }
   ],
   "source": [
    "import pandas as pd\n",
    "import matplotlib as plt\n",
    "import folium\n",
    "\n",
    "idx_col = 'category' # 인덱스를 종류구분체계 열로 지정\n",
    "df =pd.read_csv('jeju_info.csv',header=0,encoding='CP949',index_col=idx_col)\n",
    "\n",
    "\n",
    "print(\"---------------------------------------------------------------\")\n",
    "pd.set_option('display.width',None)\n",
    "pd.set_option('display.max_rows',100)\n",
    "pd.set_option('display.max_columns',10)\n",
    "pd.set_option('display.max_colwidth',20)\n",
    "pd.set_option('display.unicode.east_asian_width',True)\n",
    "\n",
    "print(df.columns.values)\n",
    "# 지도에 위치 표시\n",
    "jeju_map = folium.Map(location=[33.389398,126.541236], tiles='stamen Terrain',\n",
    "                     zoom_start=11)\n",
    "\n",
    "#출력한 지명 입력\n",
    "cluster = input(\"지도에 출력할 분류명 입력 : \")\n",
    "\n",
    "\n",
    "# 분류명 종류 -> 공공기관 , 공원/산/동.식물원 , 관광/숙박 , 교육기관 , 교통시설 , 금융기관 , \n",
    "#  기업 , 농공시설 , 도로시설 , 레져/스포츠 , 문화/종교/예술 , 쇼핑/편의 , 음식점 , 의료/복지 \n",
    "#  자동차관련 , 지명관련 , 치안관련 \n",
    "\n",
    "#데이터프레임에 특정 컬럼만 저장\n",
    "df_sample = df.loc[:,['category','loc_name','loc_x','loc_y']]  \n",
    "text = \"df_sample.loc[['\"+cluster+\"'],:]\"\n",
    "#특정 행만 검색\n",
    "df_sample2 = df_sample.loc[[cluster],:]\n",
    "\n",
    "# 결과 리스트 출력\n",
    "print('\\n전체 데이터 수')\n",
    "print(df_sample)\n",
    "print('\\n 해당 데이터 수')\n",
    "print(df_sample2)\n",
    "\n",
    "# 지도에 마커 출력\n",
    "for name, lat, lng in zip(df_sample2.loc_name, df_sample2.loc_x, df_sample2.loc_y):\n",
    "    folium.CircleMarker([lat,lng],\n",
    "                         radius=2,\n",
    "                         color='brown',\n",
    "                         fill=True,\n",
    "                         fill_color='coral',\n",
    "                         fill_opacity=0.7,\n",
    "                         popup=name\n",
    "                       ).add_to(jeju_map)\n",
    "\n",
    "# HTML 파일로 저장    \n",
    "jeju_map.save('./jeju_locationEX.html')\n"
   ]
  },
  {
   "cell_type": "code",
   "execution_count": null,
   "metadata": {},
   "outputs": [],
   "source": []
  }
 ],
 "metadata": {
  "kernelspec": {
   "display_name": "Python 3",
   "language": "python",
   "name": "python3"
  },
  "language_info": {
   "codemirror_mode": {
    "name": "ipython",
    "version": 3
   },
   "file_extension": ".py",
   "mimetype": "text/x-python",
   "name": "python",
   "nbconvert_exporter": "python",
   "pygments_lexer": "ipython3",
   "version": "3.7.4"
  }
 },
 "nbformat": 4,
 "nbformat_minor": 2
}
